{
  "cells": [
    {
      "cell_type": "markdown",
      "metadata": {
        "id": "view-in-github",
        "colab_type": "text"
      },
      "source": [
        "<a href=\"https://colab.research.google.com/github/gadashriram/v-sigma-it-labs/blob/main/Numpy_Arrays.ipynb\" target=\"_parent\"><img src=\"https://colab.research.google.com/assets/colab-badge.svg\" alt=\"Open In Colab\"/></a>"
      ]
    },
    {
      "cell_type": "code",
      "source": [
        "import numpy as np\n",
        "\n",
        "arr1d = np.array([1, 2, 3, 4, 5])\n",
        "\n",
        "\n",
        "arr2d = np.array([[1, 2, 3], [4, 5, 6]])\n",
        "\n",
        "# 3d arry\n",
        "arr3d = np.zeros((3, 3, 3))  \n",
        "print(arr3d)\n",
        "print(arr2d)\n"
      ],
      "metadata": {
        "id": "FIwYPQAWHlua",
        "colab": {
          "base_uri": "https://localhost:8080/"
        },
        "outputId": "18ad65aa-c10c-4730-c95c-5dfaeb672afd"
      },
      "execution_count": 1,
      "outputs": [
        {
          "output_type": "stream",
          "name": "stdout",
          "text": [
            "[[[0. 0. 0.]\n",
            "  [0. 0. 0.]\n",
            "  [0. 0. 0.]]\n",
            "\n",
            " [[0. 0. 0.]\n",
            "  [0. 0. 0.]\n",
            "  [0. 0. 0.]]\n",
            "\n",
            " [[0. 0. 0.]\n",
            "  [0. 0. 0.]\n",
            "  [0. 0. 0.]]]\n",
            "[[1 2 3]\n",
            " [4 5 6]]\n"
          ]
        }
      ]
    },
    {
      "cell_type": "code",
      "source": [
        "\n",
        "arr = np.array([[1, 2, 3], [4, 5, 6]])\n",
        "\n",
        "print(arr.shape)  \n",
        "print(arr.ndim)   \n",
        "print(arr.size)   \n",
        "print(arr.dtype)  \n"
      ],
      "metadata": {
        "id": "Oqm9xbR1Hmrc",
        "colab": {
          "base_uri": "https://localhost:8080/"
        },
        "outputId": "5890f9df-ff5f-4d7e-878c-72a7d809ad22"
      },
      "execution_count": 2,
      "outputs": [
        {
          "output_type": "stream",
          "name": "stdout",
          "text": [
            "(2, 3)\n",
            "2\n",
            "6\n",
            "int64\n"
          ]
        }
      ]
    },
    {
      "cell_type": "code",
      "source": [
        "\n",
        "\n",
        "arr = np.array([1, 2, 3, 4, 5])\n",
        "\n",
        "print(arr[0])       # first element\n",
        "print(arr[-1])      # last element\n",
        "print(arr[1:4])     # array from index 1 to 4\n",
        "print(arr[::-1])    # Reverse array\n"
      ],
      "metadata": {
        "id": "cskne9UJHqLl",
        "colab": {
          "base_uri": "https://localhost:8080/"
        },
        "outputId": "ec0e1d1b-8343-4fce-9263-b0c97afc0a66"
      },
      "execution_count": 3,
      "outputs": [
        {
          "output_type": "stream",
          "name": "stdout",
          "text": [
            "1\n",
            "5\n",
            "[2 3 4]\n",
            "[5 4 3 2 1]\n"
          ]
        }
      ]
    },
    {
      "cell_type": "code",
      "source": [
        "import numpy as np\n",
        "\n",
        "arr1 = np.array([1, 2, 3])\n",
        "arr2 = np.array([4, 5, 6])\n",
        "\n",
        "print(arr1 + arr2)     \n",
        "print(arr1 * 2)        \n",
        "print(np.dot(arr1, arr2))  \n"
      ],
      "metadata": {
        "id": "_oP9mDiOHsEB",
        "colab": {
          "base_uri": "https://localhost:8080/"
        },
        "outputId": "2eb4d3c3-2f2c-47bd-963c-426ef0894c75"
      },
      "execution_count": 4,
      "outputs": [
        {
          "output_type": "stream",
          "name": "stdout",
          "text": [
            "[5 7 9]\n",
            "[2 4 6]\n",
            "32\n"
          ]
        }
      ]
    }
  ],
  "metadata": {
    "colab": {
      "provenance": [],
      "include_colab_link": true
    },
    "kernelspec": {
      "display_name": "Python 3",
      "name": "python3"
    }
  },
  "nbformat": 4,
  "nbformat_minor": 0
}