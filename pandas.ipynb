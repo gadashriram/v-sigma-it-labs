{
  "nbformat": 4,
  "nbformat_minor": 0,
  "metadata": {
    "colab": {
      "provenance": [],
      "authorship_tag": "ABX9TyO8egehamoJMLq+Xy8dg9Ep",
      "include_colab_link": true
    },
    "kernelspec": {
      "name": "python3",
      "display_name": "Python 3"
    },
    "language_info": {
      "name": "python"
    }
  },
  "cells": [
    {
      "cell_type": "markdown",
      "metadata": {
        "id": "view-in-github",
        "colab_type": "text"
      },
      "source": [
        "<a href=\"https://colab.research.google.com/github/gadashriram/v-sigma-it-labs/blob/main/pandas.ipynb\" target=\"_parent\"><img src=\"https://colab.research.google.com/assets/colab-badge.svg\" alt=\"Open In Colab\"/></a>"
      ]
    },
    {
      "cell_type": "code",
      "source": [
        "import pandas as pd\n",
        "\n",
        "# Creating a DataFrame\n",
        "data = {'Name': ['John', 'Emily', 'Ryan'],\n",
        "        'Age': [25, 30, 35],\n",
        "        'City': ['New York', 'London', 'Sydney']}\n",
        "df = pd.DataFrame(data)\n",
        "\n",
        "# Inspecting the DataFrame\n",
        "print(df.head())\n",
        "print(df.shape)\n",
        "print(df.columns)\n",
        "print(df.info())\n",
        "\n",
        "# Accessing data in a DataFrame\n",
        "print(df['Name'])\n",
        "print(df[['Name', 'Age']])\n",
        "print(df.loc[0])\n",
        "print(df.iloc[1])\n",
        "print(df.loc[1, 'Name'])\n",
        "print(df.at[1, 'Name'])\n",
        "\n",
        "# Filtering data\n",
        "filtered_df = df[df['Age'] > 30]\n",
        "\n",
        "# Adding and removing columns\n",
        "df['Gender'] = ['M', 'F', 'M']\n",
        "df.drop('City', axis=1, inplace=True)\n",
        "\n",
        "# Sorting data\n",
        "sorted_df = df.sort_values('Age')\n",
        "\n",
        "\n",
        "# Writing data to a CSV file\n",
        "df.to_csv('output.csv', index=False)\n"
      ],
      "metadata": {
        "colab": {
          "base_uri": "https://localhost:8080/"
        },
        "id": "gylNN7LpAzdJ",
        "outputId": "9ae9606c-b776-44ab-b456-10ed1e7fae97"
      },
      "execution_count": 9,
      "outputs": [
        {
          "output_type": "stream",
          "name": "stdout",
          "text": [
            "    Name  Age      City\n",
            "0   John   25  New York\n",
            "1  Emily   30    London\n",
            "2   Ryan   35    Sydney\n",
            "(3, 3)\n",
            "Index(['Name', 'Age', 'City'], dtype='object')\n",
            "<class 'pandas.core.frame.DataFrame'>\n",
            "RangeIndex: 3 entries, 0 to 2\n",
            "Data columns (total 3 columns):\n",
            " #   Column  Non-Null Count  Dtype \n",
            "---  ------  --------------  ----- \n",
            " 0   Name    3 non-null      object\n",
            " 1   Age     3 non-null      int64 \n",
            " 2   City    3 non-null      object\n",
            "dtypes: int64(1), object(2)\n",
            "memory usage: 200.0+ bytes\n",
            "None\n",
            "0     John\n",
            "1    Emily\n",
            "2     Ryan\n",
            "Name: Name, dtype: object\n",
            "    Name  Age\n",
            "0   John   25\n",
            "1  Emily   30\n",
            "2   Ryan   35\n",
            "Name        John\n",
            "Age           25\n",
            "City    New York\n",
            "Name: 0, dtype: object\n",
            "Name     Emily\n",
            "Age         30\n",
            "City    London\n",
            "Name: 1, dtype: object\n",
            "Emily\n",
            "Emily\n"
          ]
        }
      ]
    },
    {
      "cell_type": "code",
      "source": [
        "#### Read Headers\n",
        "df.columns\n",
        "\n",
        "## Read each Column\n",
        "#print(df[['Name', 'Type 1', 'HP']])\n",
        "\n",
        "## Read Each Row\n",
        "#print(df.iloc[0:4])\n",
        "# for index, row in df.iterrows():\n",
        "#     print(index, row['Name'])\n",
        "#df.loc[df['Type 1'] == \"Grass\"]\n",
        "\n",
        "## Read a specific location (R,C)\n",
        "#print(df.iloc[2,1]"
      ],
      "metadata": {
        "colab": {
          "base_uri": "https://localhost:8080/"
        },
        "id": "jjn6keFCBzw-",
        "outputId": "c40525fc-c339-46bc-bf39-8aed1c520195"
      },
      "execution_count": 10,
      "outputs": [
        {
          "output_type": "execute_result",
          "data": {
            "text/plain": [
              "Index(['Name', 'Age', 'Gender'], dtype='object')"
            ]
          },
          "metadata": {},
          "execution_count": 10
        }
      ]
    }
  ]
}